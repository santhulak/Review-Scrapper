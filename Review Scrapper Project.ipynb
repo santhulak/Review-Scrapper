{
 "cells": [
  {
   "cell_type": "markdown",
   "id": "c87723ed",
   "metadata": {},
   "source": [
    "1. Go to Website\n",
    "2. Search for respective product\n",
    "3. locate review part\n",
    "4. scrape all the data to the locate system"
   ]
  },
  {
   "cell_type": "code",
   "execution_count": null,
   "id": "f6b77c27",
   "metadata": {},
   "outputs": [],
   "source": []
  }
 ],
 "metadata": {
  "kernelspec": {
   "display_name": "Python 3 (ipykernel)",
   "language": "python",
   "name": "python3"
  },
  "language_info": {
   "codemirror_mode": {
    "name": "ipython",
    "version": 3
   },
   "file_extension": ".py",
   "mimetype": "text/x-python",
   "name": "python",
   "nbconvert_exporter": "python",
   "pygments_lexer": "ipython3",
   "version": "3.9.12"
  }
 },
 "nbformat": 4,
 "nbformat_minor": 5
}
